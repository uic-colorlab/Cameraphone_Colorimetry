{
 "cells": [
  {
   "cell_type": "markdown",
   "metadata": {},
   "source": [
    "# Color Conversion"
   ]
  },
  {
   "cell_type": "markdown",
   "metadata": {},
   "source": [
    "**RGB to XYZ**  \n",
    "For sRGB define chromaticity coordinates (xr, yr), (xg, yg) and (xb, yb) \n",
    "and reference white (Xw, Yw, Zw) determine 3x3 working space matrix\n",
    "\n",
    "**Chromatic Adaptation Matrix**\n",
    "\n",
    "Standard Chromatic adaptation matrix for sRGB:  \n",
    " 0.4124564  0.3575761  0.1804375  \n",
    " 0.2126729  0.7151522  0.0721750  \n",
    " 0.0193339  0.1191920  0.9503041\n",
    " \n",
    " With standard illuminant of **D65**"
   ]
  },
  {
   "cell_type": "code",
   "execution_count": 2,
   "metadata": {
    "collapsed": true
   },
   "outputs": [],
   "source": [
    "def rgb2lab ( inputColor ) :\n",
    "\n",
    "   num = 0\n",
    "   RGB = [0, 0, 0]\n",
    "\n",
    "   for value in inputColor :\n",
    "       value = float(value) / 255\n",
    "\n",
    "       if value > 0.04045 :\n",
    "           value = ( ( value + 0.055 ) / 1.055 ) ** 2.4\n",
    "       else :\n",
    "           value = value / 12.92\n",
    "\n",
    "       RGB[num] = value * 100\n",
    "       num = num + 1\n",
    "\n",
    "   XYZ = [0, 0, 0,]\n",
    "\n",
    "# sRGB matrix transform\n",
    "   X = RGB [0] * 0.4124 + RGB [1] * 0.3576 + RGB [2] * 0.1805\n",
    "   Y = RGB [0] * 0.2126 + RGB [1] * 0.7152 + RGB [2] * 0.0722\n",
    "   Z = RGB [0] * 0.0193 + RGB [1] * 0.1192 + RGB [2] * 0.9505\n",
    "   XYZ[ 0 ] = round( X, 4 )\n",
    "   XYZ[ 1 ] = round( Y, 4 )\n",
    "   XYZ[ 2 ] = round( Z, 4 )\n",
    "\n",
    "   XYZ[ 0 ] = float( XYZ[ 0 ] ) / 95.047         # ref_X =  95.047   Observer= 2°, Illuminant= D65\n",
    "   XYZ[ 1 ] = float( XYZ[ 1 ] ) / 100.0          # ref_Y = 100.000\n",
    "   XYZ[ 2 ] = float( XYZ[ 2 ] ) / 108.883        # ref_Z = 108.883\n",
    "\n",
    "   num = 0\n",
    "   for value in XYZ :\n",
    "\n",
    "       if value > 0.008856 :\n",
    "           value = value ** ( 0.3333333333333333 )\n",
    "       else :\n",
    "           value = ( 7.787 * value ) + ( 16 / 116 )\n",
    "\n",
    "       XYZ[num] = value\n",
    "       num = num + 1\n",
    "\n",
    "   Lab = [0, 0, 0]\n",
    "\n",
    "   L = ( 116 * XYZ[ 1 ] ) - 16\n",
    "   a = 500 * ( XYZ[ 0 ] - XYZ[ 1 ] )\n",
    "   b = 200 * ( XYZ[ 1 ] - XYZ[ 2 ] )\n",
    "\n",
    "   Lab [ 0 ] = round( L, 4 )\n",
    "   Lab [ 1 ] = round( a, 4 )\n",
    "   Lab [ 2 ] = round( b, 4 )\n",
    "\n",
    "   return Lab"
   ]
  },
  {
   "cell_type": "code",
   "execution_count": 3,
   "metadata": {},
   "outputs": [
    {
     "data": {
      "text/plain": [
       "[72.0721, 9.6451, 16.7556]"
      ]
     },
     "execution_count": 3,
     "metadata": {},
     "output_type": "execute_result"
    }
   ],
   "source": [
    "Color = [205.4250, 169.6820, 146.6790]\n",
    "rgb2lab(Color)"
   ]
  },
  {
   "cell_type": "code",
   "execution_count": null,
   "metadata": {
    "collapsed": true
   },
   "outputs": [],
   "source": []
  }
 ],
 "metadata": {
  "kernelspec": {
   "display_name": "Python [conda root]",
   "language": "python",
   "name": "conda-root-py"
  },
  "language_info": {
   "codemirror_mode": {
    "name": "ipython",
    "version": 3
   },
   "file_extension": ".py",
   "mimetype": "text/x-python",
   "name": "python",
   "nbconvert_exporter": "python",
   "pygments_lexer": "ipython3",
   "version": "3.5.3"
  },
  "latex_envs": {
   "LaTeX_envs_menu_present": true,
   "autocomplete": true,
   "bibliofile": "biblio.bib",
   "cite_by": "apalike",
   "current_citInitial": 1,
   "eqLabelWithNumbers": true,
   "eqNumInitial": 1,
   "hotkeys": {
    "equation": "Ctrl-E",
    "itemize": "Ctrl-I"
   },
   "labels_anchors": false,
   "latex_user_defs": false,
   "report_style_numbering": false,
   "user_envs_cfg": false
  },
  "toc": {
   "colors": {
    "hover_highlight": "#DAA520",
    "running_highlight": "#FF0000",
    "selected_highlight": "#FFD700"
   },
   "moveMenuLeft": true,
   "nav_menu": {
    "height": "25px",
    "width": "252px"
   },
   "navigate_menu": true,
   "number_sections": true,
   "sideBar": true,
   "threshold": 4,
   "toc_cell": false,
   "toc_section_display": "block",
   "toc_window_display": false
  }
 },
 "nbformat": 4,
 "nbformat_minor": 2
}
